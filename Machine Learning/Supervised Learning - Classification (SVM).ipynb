{
 "cells": [
  {
   "cell_type": "markdown",
   "id": "019d6e26",
   "metadata": {},
   "source": [
    "## Suport Vector Machine (SVM)\n",
    "Vladimir N Vapnik memperkenalkan sebuah algoritma training yang bertujuan untuk memaksimalkan margin antara pola pelatihan dan batas keputusan.<br><br>\n",
    "`Support Vector Machine` adalah `model ML multifungsi` yang dapat digunakan untuk menyelesaikan permasalahan `klasifikasi`, `regresi`, dan `pendeteksian outlier`. Termasuk ke dalam kategori supervised learning, SVM adalah salah satu metode yang paling populer dalam machine learning.<br><br>\n",
    "`Tujuan` dari algoritma SVM adalah untuk `menemukan hyperplane terbaik` dalam ruang berdimensi-N (ruang dengan N-jumlah fitur) yang berfungsi sebagai pemisah yang jelas bagi titik-titik data input. Untuk lebih jelasnya, perhatikan gambar berikut.<br><br>\n",
    "<img src=\"./image/svm.jpg\" width=\"500px\">\n",
    "Gambar di sebelah kiri menunjukkan `beberapa kemungkinan bidang (hyperplane) untuk memisahkan data lingkaran dan data kotak`. Algoritma SVM kemudian mencari hyperplane terbaik yang dapat memisahkan kedua kelas secara optimal. Seperti tampak pada gambar di sebelah kanan, sebuah hyperplane optimal berhasil dibuat dan mampu memisahkan kedua kelas sehingga memiliki margin yang maksimal."
   ]
  },
  {
   "cell_type": "markdown",
   "id": "d32cf176",
   "metadata": {},
   "source": [
    "Beberapa keunggulan Support Vector Machine antara lain:\n",
    "\n",
    "- SVM efektif pada data berdimensi tinggi (data dengan jumlah fitur atau atribut yang sangat banyak).\n",
    "\n",
    "- SVM efektif pada kasus di mana jumlah fitur pada data lebih besar dari jumlah sampel.\n",
    "\n",
    "- SVM menggunakan subset poin pelatihan dalam fungsi keputusan (disebut support vector) sehingga membuat penggunaan memori menjadi lebih efisien.                 \n",
    "\n",
    "Pada modul ini kita akan belajar tentang bagaimana Support Vector Machine dapat menyelesaikan permasalahan klasifikasi dan regresi."
   ]
  },
  {
   "cell_type": "code",
   "execution_count": null,
   "id": "55a28372",
   "metadata": {},
   "outputs": [],
   "source": []
  }
 ],
 "metadata": {
  "kernelspec": {
   "display_name": "Python 3 (ipykernel)",
   "language": "python",
   "name": "python3"
  },
  "language_info": {
   "codemirror_mode": {
    "name": "ipython",
    "version": 3
   },
   "file_extension": ".py",
   "mimetype": "text/x-python",
   "name": "python",
   "nbconvert_exporter": "python",
   "pygments_lexer": "ipython3",
   "version": "3.9.7"
  }
 },
 "nbformat": 4,
 "nbformat_minor": 5
}
