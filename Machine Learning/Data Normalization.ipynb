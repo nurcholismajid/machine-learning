{
 "cells": [
  {
   "cell_type": "code",
   "execution_count": 2,
   "id": "e0a7c26a",
   "metadata": {},
   "outputs": [],
   "source": [
    "import pandas as pd\n",
    "from sklearn.preprocessing import MinMaxScaler"
   ]
  },
  {
   "cell_type": "markdown",
   "id": "2381dfcc",
   "metadata": {},
   "source": [
    "## Data Normalization\n",
    "Berikut rumus dari normalisasi data, sebelumnya normalisasi data merupakan teknik yang dilakukan ketika data terdapat perbandingan nilai yang jauh misal umur dengan gaji, masalah tersebut bisa kita selesaikan dengan teknik normalisasi.<br><br>\n",
    "\n",
    "<i>This's a formula for data normalization, normalization is method you can use this method when there's big ratio between value of table, e.g age with salary, that problem can solve with normalization method.<i>\n",
    "\n",
    "![](image/normalization.png)"
   ]
  },
  {
   "cell_type": "markdown",
   "id": "c7e93061",
   "metadata": {},
   "source": [
    "Contoh data yang digunakan disini yaitu nilai gaji dan umur,<br> dimana skala datanya sangat jauh, oleh karena itu di gunakan metode normalisasi data."
   ]
  },
  {
   "cell_type": "code",
   "execution_count": 3,
   "id": "9869d492",
   "metadata": {},
   "outputs": [],
   "source": [
    "data = [[12000000, 33], [35000000, 45], [4000000, 23], [6500000, 26], [9000000, 29]]"
   ]
  },
  {
   "cell_type": "markdown",
   "id": "8209cd51",
   "metadata": {},
   "source": [
    "Fungsi fit untuk menghitung nilai minimum dan maksimum pada tiap kolom"
   ]
  },
  {
   "cell_type": "code",
   "execution_count": 4,
   "id": "112470f0",
   "metadata": {},
   "outputs": [],
   "source": [
    "scaler = MinMaxScaler().fit(data)"
   ]
  },
  {
   "cell_type": "markdown",
   "id": "84dbe304",
   "metadata": {},
   "source": [
    "Transform untuk menghitung nilai scaler atau nilai normalisasi dari datanya"
   ]
  },
  {
   "cell_type": "code",
   "execution_count": 5,
   "id": "78966c5a",
   "metadata": {},
   "outputs": [],
   "source": [
    "data = scaler.transform(data)"
   ]
  },
  {
   "cell_type": "markdown",
   "id": "3381ef3e",
   "metadata": {},
   "source": [
    "Berikut tampilan yang dihasilkan dari preprocessing teknik menggunakan normalisasi"
   ]
  },
  {
   "cell_type": "code",
   "execution_count": 6,
   "id": "93ebb46c",
   "metadata": {},
   "outputs": [
    {
     "data": {
      "text/plain": [
       "array([[0.25806452, 0.45454545],\n",
       "       [1.        , 1.        ],\n",
       "       [0.        , 0.        ],\n",
       "       [0.08064516, 0.13636364],\n",
       "       [0.16129032, 0.27272727]])"
      ]
     },
     "execution_count": 6,
     "metadata": {},
     "output_type": "execute_result"
    }
   ],
   "source": [
    "data"
   ]
  },
  {
   "cell_type": "code",
   "execution_count": null,
   "id": "a9d145a7",
   "metadata": {},
   "outputs": [],
   "source": []
  }
 ],
 "metadata": {
  "kernelspec": {
   "display_name": "Python 3 (ipykernel)",
   "language": "python",
   "name": "python3"
  },
  "language_info": {
   "codemirror_mode": {
    "name": "ipython",
    "version": 3
   },
   "file_extension": ".py",
   "mimetype": "text/x-python",
   "name": "python",
   "nbconvert_exporter": "python",
   "pygments_lexer": "ipython3",
   "version": "3.9.7"
  }
 },
 "nbformat": 4,
 "nbformat_minor": 5
}
