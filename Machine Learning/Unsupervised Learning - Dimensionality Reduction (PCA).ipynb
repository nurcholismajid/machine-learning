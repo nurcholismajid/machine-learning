{
 "cells": [
  {
   "cell_type": "code",
   "execution_count": 1,
   "id": "ef113d3f",
   "metadata": {},
   "outputs": [],
   "source": [
    "import pandas as pd\n",
    "from sklearn.model_selection import train_test_split\n",
    "from sklearn.tree import DecisionTreeClassifier\n",
    "from sklearn.decomposition import PCA"
   ]
  },
  {
   "cell_type": "markdown",
   "id": "5e583223",
   "metadata": {},
   "source": [
    "## Dimensionality Reduction (PCA)\n",
    "Prinsip dari dimensionality Reduction adalah mengurangi atribut yang memiliki sedikit informasi (tidak berpengaruh banyak pada model), sehingga pada proses pelatihan tidak akan memakan banyak waktu.\n",
    "<br>\n",
    "<br>\n",
    "Ada beberapa teknik dalam pengurangan dimensi. Salah satu metode pengurangan dimensi yang terkenal adalah Principal Component Analysis atau sering disebut PCA.\n",
    "<br>\n",
    "<br>\n",
    "Secara sederhana, tujuan dari PCA adalah mengurangi jumlah atribut pada dataset tanpa mengurangi informasi. Contohnya pada sebuah dataset harga rumah. `Pada PCA setiap atribut` disebut sebagai `principal component`. Jika terdapat 10 atribut pada dataset, berarti terdapat 10 principal component. Pada gambar di bawah terdapat histogram dari 10 principal component dan variance dari setiap principal component.\n",
    "<br>\n",
    "<img src=\"./image/dimensi1.jpeg\" width=\"500px\" align=\"left\">\n",
    "<br>\n",
    "`PCA bekerja` dengan `menghitung variance dari tiap atribut`. `Variance adalah informasi yang dimiliki sebuah atribut`. Misal pada dataset rumah, atribut jumlah kamar memiliki variance atau informasi sebesar 92% dan warna rumah memiliki variance/informasi sebesar 4% tentang harga rumah terkait. Dari hasil perhitungan variance, atribut warna rumah dapat dibuang dari dataset karena tidak memiliki informasi yang cukup signifikan ketika kita ingin mempercepat pelatihan sebuah model.\n"
   ]
  },
  {
   "cell_type": "markdown",
   "id": "ae29f1a9",
   "metadata": {},
   "source": [
    "### Load Data\n",
    "Contoh dibawah ini menggunakan dataset Iris :"
   ]
  },
  {
   "cell_type": "code",
   "execution_count": 4,
   "id": "ddad2aa9",
   "metadata": {},
   "outputs": [
    {
     "data": {
      "text/html": [
       "<div>\n",
       "<style scoped>\n",
       "    .dataframe tbody tr th:only-of-type {\n",
       "        vertical-align: middle;\n",
       "    }\n",
       "\n",
       "    .dataframe tbody tr th {\n",
       "        vertical-align: top;\n",
       "    }\n",
       "\n",
       "    .dataframe thead th {\n",
       "        text-align: right;\n",
       "    }\n",
       "</style>\n",
       "<table border=\"1\" class=\"dataframe\">\n",
       "  <thead>\n",
       "    <tr style=\"text-align: right;\">\n",
       "      <th></th>\n",
       "      <th>Id</th>\n",
       "      <th>SepalLengthCm</th>\n",
       "      <th>SepalWidthCm</th>\n",
       "      <th>PetalLengthCm</th>\n",
       "      <th>PetalWidthCm</th>\n",
       "      <th>Species</th>\n",
       "    </tr>\n",
       "  </thead>\n",
       "  <tbody>\n",
       "    <tr>\n",
       "      <th>0</th>\n",
       "      <td>1</td>\n",
       "      <td>5.1</td>\n",
       "      <td>3.5</td>\n",
       "      <td>1.4</td>\n",
       "      <td>0.2</td>\n",
       "      <td>Iris-setosa</td>\n",
       "    </tr>\n",
       "    <tr>\n",
       "      <th>1</th>\n",
       "      <td>2</td>\n",
       "      <td>4.9</td>\n",
       "      <td>3.0</td>\n",
       "      <td>1.4</td>\n",
       "      <td>0.2</td>\n",
       "      <td>Iris-setosa</td>\n",
       "    </tr>\n",
       "    <tr>\n",
       "      <th>2</th>\n",
       "      <td>3</td>\n",
       "      <td>4.7</td>\n",
       "      <td>3.2</td>\n",
       "      <td>1.3</td>\n",
       "      <td>0.2</td>\n",
       "      <td>Iris-setosa</td>\n",
       "    </tr>\n",
       "    <tr>\n",
       "      <th>3</th>\n",
       "      <td>4</td>\n",
       "      <td>4.6</td>\n",
       "      <td>3.1</td>\n",
       "      <td>1.5</td>\n",
       "      <td>0.2</td>\n",
       "      <td>Iris-setosa</td>\n",
       "    </tr>\n",
       "    <tr>\n",
       "      <th>4</th>\n",
       "      <td>5</td>\n",
       "      <td>5.0</td>\n",
       "      <td>3.6</td>\n",
       "      <td>1.4</td>\n",
       "      <td>0.2</td>\n",
       "      <td>Iris-setosa</td>\n",
       "    </tr>\n",
       "  </tbody>\n",
       "</table>\n",
       "</div>"
      ],
      "text/plain": [
       "   Id  SepalLengthCm  SepalWidthCm  PetalLengthCm  PetalWidthCm      Species\n",
       "0   1            5.1           3.5            1.4           0.2  Iris-setosa\n",
       "1   2            4.9           3.0            1.4           0.2  Iris-setosa\n",
       "2   3            4.7           3.2            1.3           0.2  Iris-setosa\n",
       "3   4            4.6           3.1            1.5           0.2  Iris-setosa\n",
       "4   5            5.0           3.6            1.4           0.2  Iris-setosa"
      ]
     },
     "execution_count": 4,
     "metadata": {},
     "output_type": "execute_result"
    }
   ],
   "source": [
    "df = pd.read_csv('./datasets/Iris.csv')\n",
    "df.head()"
   ]
  },
  {
   "cell_type": "markdown",
   "id": "f0e08693",
   "metadata": {},
   "source": [
    "Menentukan data/atribut dan target/label"
   ]
  },
  {
   "cell_type": "code",
   "execution_count": 5,
   "id": "aa921d14",
   "metadata": {},
   "outputs": [],
   "source": [
    "X = df[df.columns[1:5]].values\n",
    "y = df['Species'].values"
   ]
  },
  {
   "cell_type": "markdown",
   "id": "bc420b2b",
   "metadata": {},
   "source": [
    "Split data untuk data training dan testing, menggunakan train test split"
   ]
  },
  {
   "cell_type": "code",
   "execution_count": 6,
   "id": "5692e253",
   "metadata": {},
   "outputs": [],
   "source": [
    "x_train, x_test, y_train, y_test = train_test_split(X, y, test_size=0.2, random_state=1)"
   ]
  },
  {
   "cell_type": "markdown",
   "id": "b920e9ac",
   "metadata": {},
   "source": [
    "#### Melihat Perbandingan Sebelum Menggunakan Reduksi Dimensi \n",
    "dibawah ini saya melatih semua atribut menggunakan metode klasifikasi dengan Decision Tree dengan hasil prediksi sebesar `> 90` diamana model dikatakan sangat baik."
   ]
  },
  {
   "cell_type": "code",
   "execution_count": 7,
   "id": "3e3ad45e",
   "metadata": {},
   "outputs": [
    {
     "data": {
      "text/plain": [
       "0.9666666666666667"
      ]
     },
     "execution_count": 7,
     "metadata": {},
     "output_type": "execute_result"
    }
   ],
   "source": [
    "tree = DecisionTreeClassifier()\n",
    "tree.fit(x_train, y_train)\n",
    "tree.score(x_test, y_test)"
   ]
  },
  {
   "cell_type": "markdown",
   "id": "9dd600bd",
   "metadata": {},
   "source": [
    "Sebelum kita melakukan reduksi dimensi, pertama kita perlu tahu seberapa besar informasi pada setiap atribut, setalah itu kita `ambil nilai terbesar` dari `setiap atribut`, pada kasus ini kita memiliki 4 atribut yaitu `SepalLengthCm` `SepalWidthCm` `PetalLengthCm` `PetalWidthCm`."
   ]
  },
  {
   "cell_type": "code",
   "execution_count": 8,
   "id": "3971f550",
   "metadata": {},
   "outputs": [],
   "source": [
    "pca = PCA(n_components=4)"
   ]
  },
  {
   "cell_type": "markdown",
   "id": "ad3a2b0f",
   "metadata": {},
   "source": [
    ".fit_transform untuk mengimplementasikan algoritma pca pada x_train"
   ]
  },
  {
   "cell_type": "code",
   "execution_count": 9,
   "id": "64027ec0",
   "metadata": {},
   "outputs": [],
   "source": [
    "pca_atribute = pca.fit_transform(x_train)"
   ]
  },
  {
   "cell_type": "markdown",
   "id": "6f276699",
   "metadata": {},
   "source": [
    "Setelah itu kita lihat variance (informasi pada setiap atribut), berikut yang kita dapatkan dan yang nantinya kita gunakan 2 variance terbesar yaitu `SepalLengthCm` `SepalWidthCm`"
   ]
  },
  {
   "cell_type": "code",
   "execution_count": 11,
   "id": "923db5e5",
   "metadata": {},
   "outputs": [
    {
     "data": {
      "text/plain": [
       "array([0.92859758, 0.0474831 , 0.0193921 , 0.00452721])"
      ]
     },
     "execution_count": 11,
     "metadata": {},
     "output_type": "execute_result"
    }
   ],
   "source": [
    "pca.explained_variance_ratio_"
   ]
  },
  {
   "cell_type": "markdown",
   "id": "2b859065",
   "metadata": {},
   "source": [
    "Setelah kita menentukan atribut yang digunakan saatnya kita reduksi atributnya, kita buat data train dan test-nya seperti code berikut :"
   ]
  },
  {
   "cell_type": "code",
   "execution_count": 13,
   "id": "5f39a12f",
   "metadata": {},
   "outputs": [],
   "source": [
    "pca2 = PCA(n_components=2)\n",
    "pca_x_train = pca2.fit_transform(x_train)\n",
    "pca_x_test = pca2.fit_transform(x_test)"
   ]
  },
  {
   "cell_type": "markdown",
   "id": "4c73ac64",
   "metadata": {},
   "source": [
    "Saatnya kita lihat perbandingan prediksi sebelumnya yaitu kita mendapatkan hasil sebesar `0.9666666666666667`, dan setelah kita reduksi ternyata hasil prediksi tidak jauh berbeda, setelah kita lakukan reduksi dimensi kita menghasilkan hasil prediksi sebesar `0.9333333333333333`, yang dimana proses prediksi akan jauh lebih ringan dengan menerapkan reduksi dimensi."
   ]
  },
  {
   "cell_type": "code",
   "execution_count": 14,
   "id": "a7a59c62",
   "metadata": {},
   "outputs": [
    {
     "data": {
      "text/plain": [
       "DecisionTreeClassifier()"
      ]
     },
     "execution_count": 14,
     "metadata": {},
     "output_type": "execute_result"
    }
   ],
   "source": [
    "model2 = DecisionTreeClassifier()\n",
    "model2.fit(pca_x_train, y_train)"
   ]
  },
  {
   "cell_type": "markdown",
   "id": "89ce739f",
   "metadata": {},
   "source": [
    "Score yang didapat setelah reduksi dimensi"
   ]
  },
  {
   "cell_type": "code",
   "execution_count": 15,
   "id": "b55cb11a",
   "metadata": {},
   "outputs": [
    {
     "data": {
      "text/plain": [
       "0.9333333333333333"
      ]
     },
     "execution_count": 15,
     "metadata": {},
     "output_type": "execute_result"
    }
   ],
   "source": [
    "model2.score(pca_x_test, y_test)"
   ]
  },
  {
   "cell_type": "markdown",
   "id": "b7f11236",
   "metadata": {},
   "source": [
    "#### Confusion Matrix\n",
    "Kita juga bisa melihat seberapa fit model kita menggunakan confusion matrix dibawah ini :"
   ]
  },
  {
   "cell_type": "code",
   "execution_count": 16,
   "id": "974cb968",
   "metadata": {},
   "outputs": [],
   "source": [
    "from sklearn.metrics import confusion_matrix"
   ]
  },
  {
   "cell_type": "markdown",
   "id": "a8edc9ea",
   "metadata": {},
   "source": [
    "Hasil dari prediksi"
   ]
  },
  {
   "cell_type": "code",
   "execution_count": 17,
   "id": "081b2ca2",
   "metadata": {},
   "outputs": [],
   "source": [
    "pred = model2.predict(pca_x_test)"
   ]
  },
  {
   "cell_type": "markdown",
   "id": "29435b01",
   "metadata": {},
   "source": [
    "Pada Confusion Matrix kita bisa melihat bahwa model kita sangat fit, dari semua prediksi yang melenceng cuma 2"
   ]
  },
  {
   "cell_type": "code",
   "execution_count": 19,
   "id": "ff998406",
   "metadata": {},
   "outputs": [
    {
     "data": {
      "text/plain": [
       "array([[11,  0,  0],\n",
       "       [ 0, 11,  2],\n",
       "       [ 0,  0,  6]], dtype=int64)"
      ]
     },
     "execution_count": 19,
     "metadata": {},
     "output_type": "execute_result"
    }
   ],
   "source": [
    "confusion_matrix(y_test, pred)"
   ]
  },
  {
   "cell_type": "code",
   "execution_count": null,
   "id": "c13aae40",
   "metadata": {},
   "outputs": [],
   "source": []
  }
 ],
 "metadata": {
  "kernelspec": {
   "display_name": "Python 3 (ipykernel)",
   "language": "python",
   "name": "python3"
  },
  "language_info": {
   "codemirror_mode": {
    "name": "ipython",
    "version": 3
   },
   "file_extension": ".py",
   "mimetype": "text/x-python",
   "name": "python",
   "nbconvert_exporter": "python",
   "pygments_lexer": "ipython3",
   "version": "3.9.7"
  }
 },
 "nbformat": 4,
 "nbformat_minor": 5
}
