{
 "cells": [
  {
   "cell_type": "code",
   "execution_count": 1,
   "id": "7e94b260",
   "metadata": {},
   "outputs": [],
   "source": [
    "import pandas as pd\n",
    "import seaborn as sns\n",
    "import matplotlib.pyplot as plt\n",
    "from sklearn.cluster import KMeans"
   ]
  },
  {
   "cell_type": "markdown",
   "id": "cde04171",
   "metadata": {},
   "source": [
    "## Unsupervised Learning - Clustering (K-Means Clustering)\n",
    "K-Means, `(K)` mewakili `jumlah cluster`, `(Means)` berarti `rata-rata`, jadi K-Means merupakan rata-rata dari setiap cluster, rata-rata pada K-Means juga disebut `Centroid`.\n",
    "Cara kerja algoritma ini yaitu :\n",
    "- Pertama memilih sample secara acak kemudian dijadikan centroid \n",
    "<br>Centroid adalah sebuah sampel pada data yang menjadi pusat dari sebuah klaster.\n",
    "<img src=\"./image/kmean-terdekat.jpeg\"  width=\"500px\">\n",
    "- Kemudian setiap sample yang berdekatan dengan centroid akan masuk ke dalam cluster\n",
    "<img src=\"./image/cluster1.jpeg\"  width=\"500px\">\n",
    "- Setelah setiap sampel dimasukkan pada klaster dari centroid terdekat, K-Means akan menghitung rata-rata dari setiap sampel dan menjadikan rata-rata tersebut sebagai `centroid baru`\n",
    "<img src=\"./image/cluster2.jpeg\"  width=\"500px\">\n",
    "- Keempat, langkah kedua diulang kembali, Sampel akan dimasukkan ke dalam klaster dari centroid baru, dan mengulangi langkah ketiga, yaitu menemukan rata-rata dari klaster terbaru, Ketika centroid baru tidak ditemukan, maka proses clustering berhenti.\n",
    "- Untuk mengukur kualitas dari pengklasteran, K-Means akan melakukan iterasi lagi dan mengulangi lagi tahap pertama yaitu memilih sampel secara acak untuk dijadikan centroid\n",
    "<img src=\"./image/new-cluster.jpeg\"  width=\"500px\">\n",
    "- Dan mengulangi langkah selanjutnya hingga hasil akhir seperti ini\n",
    "<img src=\"./image/iterasi2.jpeg\"  width=\"500px\">\n",
    "- Untuk membandingkan klaster setiap iterasi, K-Means akan menghitung variance dari tiap iterasi. `Variance adalah persentase jumlah sampel pada tiap klaster`.\n",
    "<img src=\"./image/result.jpeg\"  width=\"500px\">\n",
    "<img src=\"./image/result2.jpeg\"  width=\"500px\">\n"
   ]
  },
  {
   "cell_type": "markdown",
   "id": "16a1926f",
   "metadata": {},
   "source": [
    "### Load Data\n",
    "You are owing a supermarket mall and through membership cards , you have some basic data about your customers like Customer ID, age, gender, annual income and spending score.\n",
    "Spending Score is something you assign to the customer based on your defined parameters like customer behavior and purchasing data.\n",
    "<br><br>\n",
    "Problem Statement\n",
    "You own the mall and want to understand the customers like who can be easily converge `[Target Customers]` so that the sense can be given to marketing team and plan the strategy accordingly.\n",
    "<br><br>\n",
    "[Dataset Download](https://www.kaggle.com/vjchoudhary7/customer-segmentation-tutorial-in-python)"
   ]
  },
  {
   "cell_type": "code",
   "execution_count": 2,
   "id": "90c280d4",
   "metadata": {},
   "outputs": [
    {
     "data": {
      "text/html": [
       "<div>\n",
       "<style scoped>\n",
       "    .dataframe tbody tr th:only-of-type {\n",
       "        vertical-align: middle;\n",
       "    }\n",
       "\n",
       "    .dataframe tbody tr th {\n",
       "        vertical-align: top;\n",
       "    }\n",
       "\n",
       "    .dataframe thead th {\n",
       "        text-align: right;\n",
       "    }\n",
       "</style>\n",
       "<table border=\"1\" class=\"dataframe\">\n",
       "  <thead>\n",
       "    <tr style=\"text-align: right;\">\n",
       "      <th></th>\n",
       "      <th>CustomerID</th>\n",
       "      <th>Gender</th>\n",
       "      <th>Age</th>\n",
       "      <th>Annual Income (k$)</th>\n",
       "      <th>Spending Score (1-100)</th>\n",
       "    </tr>\n",
       "  </thead>\n",
       "  <tbody>\n",
       "    <tr>\n",
       "      <th>0</th>\n",
       "      <td>1</td>\n",
       "      <td>Male</td>\n",
       "      <td>19</td>\n",
       "      <td>15</td>\n",
       "      <td>39</td>\n",
       "    </tr>\n",
       "    <tr>\n",
       "      <th>1</th>\n",
       "      <td>2</td>\n",
       "      <td>Male</td>\n",
       "      <td>21</td>\n",
       "      <td>15</td>\n",
       "      <td>81</td>\n",
       "    </tr>\n",
       "    <tr>\n",
       "      <th>2</th>\n",
       "      <td>3</td>\n",
       "      <td>Female</td>\n",
       "      <td>20</td>\n",
       "      <td>16</td>\n",
       "      <td>6</td>\n",
       "    </tr>\n",
       "    <tr>\n",
       "      <th>3</th>\n",
       "      <td>4</td>\n",
       "      <td>Female</td>\n",
       "      <td>23</td>\n",
       "      <td>16</td>\n",
       "      <td>77</td>\n",
       "    </tr>\n",
       "    <tr>\n",
       "      <th>4</th>\n",
       "      <td>5</td>\n",
       "      <td>Female</td>\n",
       "      <td>31</td>\n",
       "      <td>17</td>\n",
       "      <td>40</td>\n",
       "    </tr>\n",
       "  </tbody>\n",
       "</table>\n",
       "</div>"
      ],
      "text/plain": [
       "   CustomerID  Gender  Age  Annual Income (k$)  Spending Score (1-100)\n",
       "0           1    Male   19                  15                      39\n",
       "1           2    Male   21                  15                      81\n",
       "2           3  Female   20                  16                       6\n",
       "3           4  Female   23                  16                      77\n",
       "4           5  Female   31                  17                      40"
      ]
     },
     "execution_count": 2,
     "metadata": {},
     "output_type": "execute_result"
    }
   ],
   "source": [
    "df = pd.read_csv('./datasets/Mall_Customers.csv')\n",
    "df.head()"
   ]
  },
  {
   "cell_type": "markdown",
   "id": "641d21cd",
   "metadata": {},
   "source": [
    "### Preprocessing\n",
    "Ada beberapa data yang perlu kita proses sebelum membuat model, seperti mengubah nama kolom agar lebih seragam, mengubah data kategorik menjadi numerik, dan menghapus data yang tidak penting "
   ]
  },
  {
   "cell_type": "markdown",
   "id": "9e5b7784",
   "metadata": {},
   "source": [
    "#### Rename Coloms"
   ]
  },
  {
   "cell_type": "code",
   "execution_count": 11,
   "id": "16a6772e",
   "metadata": {},
   "outputs": [],
   "source": [
    "df = df.rename(columns={'Gender':'gender', \n",
    "                        'Age':'age',\n",
    "                        'Annual Income (k$)':'annual_income',\n",
    "                        'Spending Score (1-100)':'spending_score'})"
   ]
  },
  {
   "cell_type": "markdown",
   "id": "f9f7b488",
   "metadata": {},
   "source": [
    "#### Convert Data Category to Numeric"
   ]
  },
  {
   "cell_type": "code",
   "execution_count": 12,
   "id": "a3fe1b45",
   "metadata": {},
   "outputs": [],
   "source": [
    "df['gender'].replace(['Female', 'Male'], [0,1], inplace=True)"
   ]
  },
  {
   "cell_type": "markdown",
   "id": "145b28ad",
   "metadata": {},
   "source": [
    "#### Delete Data"
   ]
  },
  {
   "cell_type": "code",
   "execution_count": 13,
   "id": "0049ee26",
   "metadata": {},
   "outputs": [],
   "source": [
    "X = df.drop(['CustomerID', 'gender'], axis=1)"
   ]
  },
  {
   "cell_type": "markdown",
   "id": "17b6aa24",
   "metadata": {},
   "source": [
    "### Create K-Means Model\n",
    "Sebelum itu kita menghitung inersia terlebih dahulu, `inersia` bersungsi untuk memberi tahu `seberapa jauh jarak setiap sampel pada sebuah klaster`. Semakin kecil inersia maka semakin baik karena jarak setiap sampel pada sebuah klaster lebih berdekatan. Dan kemudian dari hasil inersia ini kita bisa gunakan metode elbow untuk menentukan berapa cluster yang dapat kita gunakan pada model yang ingin kita buat."
   ]
  },
  {
   "cell_type": "code",
   "execution_count": 15,
   "id": "755650ad",
   "metadata": {},
   "outputs": [
    {
     "name": "stderr",
     "output_type": "stream",
     "text": [
      "C:\\Users\\nomjn\\anaconda3\\lib\\site-packages\\sklearn\\cluster\\_kmeans.py:881: UserWarning: KMeans is known to have a memory leak on Windows with MKL, when there are less chunks than available threads. You can avoid it by setting the environment variable OMP_NUM_THREADS=1.\n",
      "  warnings.warn(\n"
     ]
    }
   ],
   "source": [
    "cluster = []\n",
    "\n",
    "for k in range(1,11):\n",
    "    km = KMeans(n_clusters=k).fit(X)\n",
    "    cluster.append(km.inertia_)"
   ]
  },
  {
   "cell_type": "markdown",
   "id": "d6dbbc03",
   "metadata": {},
   "source": [
    "Buat diagram untuk mengetahui cluster yang ingin kita buat, bisa kita lihat pada hasil di bawah, cluster yang bisa kita buat sebanyak 5, karena 6-11 jumlah inersia pada cluster semakin menurun."
   ]
  },
  {
   "cell_type": "code",
   "execution_count": 18,
   "id": "88a9b395",
   "metadata": {},
   "outputs": [
    {
     "name": "stderr",
     "output_type": "stream",
     "text": [
      "C:\\Users\\nomjn\\AppData\\Local\\Temp/ipykernel_10492/3594819102.py:6: UserWarning: Matplotlib is currently using module://matplotlib_inline.backend_inline, which is a non-GUI backend, so cannot show the figure.\n",
      "  fig.show()\n"
     ]
    },
    {
     "data": {
      "image/png": "[encoded data removed]",
      "text/plain": [
       "<Figure size 576x288 with 1 Axes>"
      ]
     },
     "metadata": {
      "needs_background": "light"
     },
     "output_type": "display_data"
    }
   ],
   "source": [
    "fig, ax = plt.subplots(figsize=(8, 4))\n",
    "sns.lineplot(x=list(range(1, 11)), y=cluster, ax=ax)\n",
    "ax.set_title('Cari Elbow')\n",
    "ax.set_xlabel('Clusters')\n",
    "ax.set_ylabel('Inertia')\n",
    "fig.show()"
   ]
  },
  {
   "cell_type": "markdown",
   "id": "12f0adc7",
   "metadata": {},
   "source": [
    "Terakhir kita bisa melatih kembali K-Means dengan jumlah K yang didapat dari metode Elbow. Lalu kita bisa membuat plot hasil pengklasteran K-Means dengan menjalankan kode di bawah."
   ]
  },
  {
   "cell_type": "code",
   "execution_count": 20,
   "id": "7b87849d",
   "metadata": {},
   "outputs": [],
   "source": [
    "km5 = KMeans(n_clusters=5).fit(X)"
   ]
  },
  {
   "cell_type": "code",
   "execution_count": 21,
   "id": "445b8e6b",
   "metadata": {},
   "outputs": [],
   "source": [
    "X['Label'] = km5.labels_"
   ]
  },
  {
   "cell_type": "code",
   "execution_count": 22,
   "id": "fc741e7f",
   "metadata": {},
   "outputs": [
    {
     "name": "stderr",
     "output_type": "stream",
     "text": [
      "C:\\Users\\nomjn\\anaconda3\\lib\\site-packages\\seaborn\\_decorators.py:36: FutureWarning: Pass the following variables as keyword args: x, y. From version 0.12, the only valid positional argument will be `data`, and passing other arguments without an explicit keyword will result in an error or misinterpretation.\n",
      "  warnings.warn(\n"
     ]
    },
    {
     "data": {
      "image/png": "[encoded data removed]",
      "text/plain": [
       "<Figure size 576x288 with 1 Axes>"
      ]
     },
     "metadata": {
      "needs_background": "light"
     },
     "output_type": "display_data"
    }
   ],
   "source": [
    "plt.figure(figsize=(8,4))\n",
    "\n",
    "sns.scatterplot(X['annual_income'], X['spending_score'], hue=X['Label'], palette=sns.color_palette('hls', 5))\n",
    "plt.title('KMeans dengan 5 Cluster')\n",
    "plt.show()"
   ]
  },
  {
   "cell_type": "code",
   "execution_count": null,
   "id": "a6b397c2",
   "metadata": {},
   "outputs": [],
   "source": []
  }
 ],
 "metadata": {
  "kernelspec": {
   "display_name": "Python 3 (ipykernel)",
   "language": "python",
   "name": "python3"
  },
  "language_info": {
   "codemirror_mode": {
    "name": "ipython",
    "version": 3
   },
   "file_extension": ".py",
   "mimetype": "text/x-python",
   "name": "python",
   "nbconvert_exporter": "python",
   "pygments_lexer": "ipython3",
   "version": "3.9.7"
  }
 },
 "nbformat": 4,
 "nbformat_minor": 5
}
