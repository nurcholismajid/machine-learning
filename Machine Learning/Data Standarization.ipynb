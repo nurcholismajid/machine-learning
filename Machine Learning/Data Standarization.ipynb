{
 "cells": [
  {
   "cell_type": "code",
   "execution_count": 2,
   "id": "5515ef67",
   "metadata": {},
   "outputs": [],
   "source": [
    "import pandas as pd\n",
    "from sklearn.preprocessing import StandardScaler"
   ]
  },
  {
   "cell_type": "markdown",
   "id": "9838c5b4",
   "metadata": {},
   "source": [
    "## Data Standarization\n",
    "Standarisasi data merupakan proses konversi nilai-nilai dari suatu fitur sehingga nilai yang dihasilkan ada pada skala yang sama, disni menggunakan Z score untuk teknik standarisasi\n",
    "\n",
    "![](./image/standarization.png)"
   ]
  },
  {
   "cell_type": "markdown",
   "id": "0866023a",
   "metadata": {},
   "source": [
    "Data yang digunakan disini sama seperti proses normalisasi data, dan teknik standarisasi juga sedikit sama cara pemanggilannya seperti normalisasi data sebelumnya."
   ]
  },
  {
   "cell_type": "code",
   "execution_count": 3,
   "id": "09793563",
   "metadata": {},
   "outputs": [],
   "source": [
    "data  =  [[12000000, 33], [35000000, 45], [4000000, 23], [6500000, 26], [9000000, 29]]"
   ]
  },
  {
   "cell_type": "markdown",
   "id": "337bd1c2",
   "metadata": {},
   "source": [
    "Fungsi fit untuk menghitung rata-rata dan deviasi standar dari setiap kolom"
   ]
  },
  {
   "cell_type": "code",
   "execution_count": 6,
   "id": "fc719682",
   "metadata": {},
   "outputs": [],
   "source": [
    "scaler = StandardScaler().fit(data)"
   ]
  },
  {
   "cell_type": "markdown",
   "id": "aa685a2f",
   "metadata": {},
   "source": [
    "Fungsi transform untuk mengaplikasikan standard scaler pada data"
   ]
  },
  {
   "cell_type": "code",
   "execution_count": 7,
   "id": "18b1f53e",
   "metadata": {},
   "outputs": [
    {
     "data": {
      "text/plain": [
       "array([[-0.11638732,  0.23521877],\n",
       "       [ 1.94277296,  1.80334389],\n",
       "       [-0.83261698, -1.07155217],\n",
       "       [-0.60879521, -0.67952089],\n",
       "       [-0.38497344, -0.28748961]])"
      ]
     },
     "execution_count": 7,
     "metadata": {},
     "output_type": "execute_result"
    }
   ],
   "source": [
    "scaler.transform(data)"
   ]
  },
  {
   "cell_type": "code",
   "execution_count": null,
   "id": "09befd4e",
   "metadata": {},
   "outputs": [],
   "source": []
  }
 ],
 "metadata": {
  "kernelspec": {
   "display_name": "Python 3 (ipykernel)",
   "language": "python",
   "name": "python3"
  },
  "language_info": {
   "codemirror_mode": {
    "name": "ipython",
    "version": 3
   },
   "file_extension": ".py",
   "mimetype": "text/x-python",
   "name": "python",
   "nbconvert_exporter": "python",
   "pygments_lexer": "ipython3",
   "version": "3.9.7"
  }
 },
 "nbformat": 4,
 "nbformat_minor": 5
}
